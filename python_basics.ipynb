{
  "cells": [
    {
      "cell_type": "markdown",
      "metadata": {
        "id": "view-in-github",
        "colab_type": "text"
      },
      "source": [
        "<a href=\"https://colab.research.google.com/github/JunaidKhan44/Machine-Learning-With-Python/blob/main/python_basics.ipynb\" target=\"_parent\"><img src=\"https://colab.research.google.com/assets/colab-badge.svg\" alt=\"Open In Colab\"/></a>"
      ]
    },
    {
      "cell_type": "code",
      "source": [
        "help(round)"
      ],
      "metadata": {
        "colab": {
          "base_uri": "https://localhost:8080/"
        },
        "id": "Datg2g77Cmwy",
        "outputId": "6448b50d-96f5-43a0-f002-09b7cee70596"
      },
      "execution_count": null,
      "outputs": [
        {
          "output_type": "stream",
          "name": "stdout",
          "text": [
            "Help on built-in function round in module builtins:\n",
            "\n",
            "round(number, ndigits=None)\n",
            "    Round a number to a given precision in decimal digits.\n",
            "    \n",
            "    The return value is an integer if ndigits is omitted or None.  Otherwise\n",
            "    the return value has the same type as the number.  ndigits may be negative.\n",
            "\n"
          ]
        }
      ]
    },
    {
      "cell_type": "code",
      "source": [
        "def mod_5(a):\n",
        "  return a%5\n",
        "\n",
        "help(mod_5)\n",
        "\n",
        "print(\"max is \",max(1,2,3, key=mod_5))\n",
        "\n",
        "x=True\n",
        "\n",
        "print(type(x))\n",
        "\n",
        "a=1\n",
        "b=2\n",
        "\n",
        "print(\"\\na==b? \",a==b)\n",
        "print(\"a<b? \",a<b)\n",
        "print(\"a!=b? \",a!=b)\n",
        "print(\"a==b? \",a>b)\n",
        "print(\"a==b? \",a<=b)\n",
        "print(\"a==b? \",a>=b)\n",
        "\n",
        "print(\"\\n3.0==3\",3.0==3)"
      ],
      "metadata": {
        "colab": {
          "base_uri": "https://localhost:8080/"
        },
        "id": "xCiKavcbIhrK",
        "outputId": "8fbd0747-4ee7-4bf3-93cd-f1a96585ea99"
      },
      "execution_count": null,
      "outputs": [
        {
          "output_type": "stream",
          "name": "stdout",
          "text": [
            "Help on function mod_5 in module __main__:\n",
            "\n",
            "mod_5(a)\n",
            "\n",
            "max is  3\n",
            "<class 'bool'>\n",
            "\n",
            "a==b?  False\n",
            "a<b?  True\n",
            "a!=b?  True\n",
            "a==b?  False\n",
            "a==b?  True\n",
            "a==b?  False\n",
            "\n",
            "3.0==3 True\n"
          ]
        }
      ]
    },
    {
      "cell_type": "code",
      "source": [
        "planets = ['Mercury', 'Venus', 'Earth', 'Mars', 'Jupiter', 'Saturn', 'Uranus', 'Neptune']\n",
        "hands = [\n",
        "    ['J', 'Q', 'K'],\n",
        "    ['2', '2', '2'],\n",
        "    ['6', 'A', 'K'], # (Comma after the last element is optional)\n",
        "]\n",
        "# (I could also have written this on one line, but it can get hard to read)\n",
        "hands = [['J', 'Q', 'K'], ['2', '2', '2'], ['6', 'A', 'K']]\n",
        "\n",
        "#printing first 3 elements of list planets\n",
        "print(planets[0:3])\n",
        "#printing elements till 3 of list planets\n",
        "print(planets[:3])\n",
        "#printing elements from 3 of list planets\n",
        "print(planets[3:])\n",
        "#printing elements of list planets from end\n",
        "print(planets[1:-1])\n",
        "#printing elements of list planets from lasth third element\n",
        "print(planets[-3:])\n",
        "#replacing list element\n",
        "planets[3]='Malacandra'\n",
        "print(planets)\n",
        "#replacing elements from 3 onwards\n",
        "planets[3:]=['ver','mur','tur']\n",
        "print(planets)\n",
        "\n"
      ],
      "metadata": {
        "colab": {
          "base_uri": "https://localhost:8080/"
        },
        "id": "v5__qimyQ79s",
        "outputId": "b727815e-4aca-4873-8e92-bfa4543059f1"
      },
      "execution_count": null,
      "outputs": [
        {
          "output_type": "stream",
          "name": "stdout",
          "text": [
            "['Mercury', 'Venus', 'Earth']\n",
            "['Mercury', 'Venus', 'Earth']\n",
            "['Mars', 'Jupiter', 'Saturn', 'Uranus', 'Neptune']\n",
            "['Venus', 'Earth', 'Mars', 'Jupiter', 'Saturn', 'Uranus']\n",
            "['Saturn', 'Uranus', 'Neptune']\n",
            "['Mercury', 'Venus', 'Earth', 'Malacandra', 'Jupiter', 'Saturn', 'Uranus', 'Neptune']\n",
            "['Mercury', 'Venus', 'Earth', 'ver', 'mur', 'tur']\n"
          ]
        }
      ]
    },
    {
      "cell_type": "code",
      "source": [
        "\n"
      ],
      "metadata": {
        "id": "zw9Ud4ZfI9nS"
      },
      "execution_count": null,
      "outputs": []
    }
  ],
  "metadata": {
    "colab": {
      "name": "Welcome to Colaboratory",
      "toc_visible": true,
      "provenance": [],
      "include_colab_link": true
    },
    "kernelspec": {
      "display_name": "Python 3",
      "name": "python3"
    }
  },
  "nbformat": 4,
  "nbformat_minor": 0
}